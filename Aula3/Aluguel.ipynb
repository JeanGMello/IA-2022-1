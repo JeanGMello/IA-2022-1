{
  "nbformat": 4,
  "nbformat_minor": 0,
  "metadata": {
    "colab": {
      "name": "Aluguel.ipynb",
      "provenance": [],
      "collapsed_sections": []
    },
    "kernelspec": {
      "name": "python3",
      "display_name": "Python 3"
    },
    "language_info": {
      "name": "python"
    }
  },
  "cells": [
    {
      "cell_type": "markdown",
      "source": [
        "Ler o aluguel.csv (sep=\";\")"
      ],
      "metadata": {
        "id": "jMNxe1fqwuL_"
      }
    },
    {
      "cell_type": "code",
      "source": [
        "import pandas as pd\n",
        "import seaborn as sns\n",
        "\n",
        "aluguel_df = pd.read_csv(\"aluguel.csv\",sep=\";\")\n",
        "print(aluguel_df)"
      ],
      "metadata": {
        "colab": {
          "base_uri": "https://localhost:8080/"
        },
        "id": "vhp6yJ5Lwvn3",
        "outputId": "3bf40f14-6b96-4445-e53d-4ab877a7febb"
      },
      "execution_count": null,
      "outputs": [
        {
          "output_type": "stream",
          "name": "stdout",
          "text": [
            "                          Tipo                Bairro  Quartos  Vagas  Suites  \\\n",
            "0                    Quitinete            Copacabana        1      0       0   \n",
            "1                         Casa       Jardim Botânico        2      0       1   \n",
            "2      Conjunto Comercial/Sala       Barra da Tijuca        0      4       0   \n",
            "3                  Apartamento                Centro        1      0       0   \n",
            "4                  Apartamento          Higienópolis        1      0       0   \n",
            "...                        ...                   ...      ...    ...     ...   \n",
            "32955                Quitinete                Centro        0      0       0   \n",
            "32956              Apartamento           Jacarepaguá        3      1       2   \n",
            "32957              Apartamento  São Francisco Xavier        2      1       0   \n",
            "32958              Apartamento                Leblon        2      0       0   \n",
            "32959  Conjunto Comercial/Sala                Centro        0      0       0   \n",
            "\n",
            "       Area   Valor  Condominio    IPTU  \n",
            "0        40  1700.0       500.0    60.0  \n",
            "1       100  7000.0         NaN     NaN  \n",
            "2       150  5200.0      4020.0  1111.0  \n",
            "3        15   800.0       390.0    20.0  \n",
            "4        48   800.0       230.0     NaN  \n",
            "...     ...     ...         ...     ...  \n",
            "32955    27   800.0       350.0    25.0  \n",
            "32956    78  1800.0       800.0    40.0  \n",
            "32957    48  1400.0       509.0    37.0  \n",
            "32958    70  3000.0       760.0     NaN  \n",
            "32959   250  6500.0      4206.0  1109.0  \n",
            "\n",
            "[32960 rows x 9 columns]\n"
          ]
        }
      ]
    },
    {
      "cell_type": "markdown",
      "source": [
        "Quantas linhas e colunas tem?"
      ],
      "metadata": {
        "id": "7DCm0fQLx0tF"
      }
    },
    {
      "cell_type": "code",
      "source": [
        "print(aluguel_df.shape)"
      ],
      "metadata": {
        "colab": {
          "base_uri": "https://localhost:8080/"
        },
        "id": "XXJFMkRczoy2",
        "outputId": "4c099e3a-07f3-4bc6-a322-926d3b9e8d2b"
      },
      "execution_count": null,
      "outputs": [
        {
          "output_type": "stream",
          "name": "stdout",
          "text": [
            "(32960, 9)\n"
          ]
        }
      ]
    },
    {
      "cell_type": "markdown",
      "source": [
        "Quantos tipos de imóveis existem?"
      ],
      "metadata": {
        "id": "4biuo-bV1gSd"
      }
    },
    {
      "cell_type": "code",
      "source": [
        "aluguel_df['Tipo'].value_counts()"
      ],
      "metadata": {
        "colab": {
          "base_uri": "https://localhost:8080/"
        },
        "id": "h4iG6iFr2G51",
        "outputId": "9b99ebe5-4b54-4321-ce3e-a8dbc65928c6"
      },
      "execution_count": null,
      "outputs": [
        {
          "output_type": "execute_result",
          "data": {
            "text/plain": [
              "Apartamento                    19532\n",
              "Conjunto Comercial/Sala         6815\n",
              "Loja/Salão                      1426\n",
              "Casa de Condomínio               996\n",
              "Casa                             967\n",
              "Quitinete                        836\n",
              "Galpão/Depósito/Armazém          623\n",
              "Flat                             476\n",
              "Prédio Inteiro                   301\n",
              "Casa Comercial                   265\n",
              "Casa de Vila                     249\n",
              "Loja Shopping/ Ct Comercial      247\n",
              "Box/Garagem                       82\n",
              "Terreno Padrão                    70\n",
              "Loft                              51\n",
              "Sítio                             10\n",
              "Loteamento/Condomínio              5\n",
              "Studio                             4\n",
              "Hotel                              2\n",
              "Chácara                            1\n",
              "Pousada/Chalé                      1\n",
              "Indústria                          1\n",
              "Name: Tipo, dtype: int64"
            ]
          },
          "metadata": {},
          "execution_count": 21
        }
      ]
    },
    {
      "cell_type": "markdown",
      "source": [
        "Quantos bairros existem?"
      ],
      "metadata": {
        "id": "1_Fc-Wka6PnP"
      }
    },
    {
      "cell_type": "code",
      "source": [
        "print(len(aluguel_df[\"Bairro\"].value_counts()))"
      ],
      "metadata": {
        "colab": {
          "base_uri": "https://localhost:8080/"
        },
        "id": "R9Unhd2r6S5t",
        "outputId": "f2ba68a6-cb2a-4dd3-a83f-5e3085ba70d6"
      },
      "execution_count": null,
      "outputs": [
        {
          "output_type": "stream",
          "name": "stdout",
          "text": [
            "162\n"
          ]
        }
      ]
    },
    {
      "cell_type": "markdown",
      "source": [
        "Qual a média, mediana e desvio padrão da quantidade de quartos, vagas, suites, area, valor, condominio e iptu? Essas variáveis descrevem bem o comportamento dos dados?"
      ],
      "metadata": {
        "id": "dGk-oOrk9ck-"
      }
    },
    {
      "cell_type": "code",
      "source": [
        "mediaQuartos = aluguel_df[\"Quartos\"].mean()\n",
        "medianaQuartos = aluguel_df[\"Quartos\"].median()\n",
        "desvioQuartos = aluguel_df[\"Quartos\"].std()\n",
        "\n",
        "mediaVagas = aluguel_df[\"Vagas\"].mean()\n",
        "medianaVagas = aluguel_df[\"Vagas\"].median()\n",
        "desvioVagas = aluguel_df[\"Vagas\"].std()\n",
        "\n",
        "mediaSuites = aluguel_df[\"Suites\"].mean()\n",
        "medianaSuites = aluguel_df[\"Suites\"].median()\n",
        "desvioSuites = aluguel_df[\"Suites\"].std()\n",
        "\n",
        "mediaArea = aluguel_df[\"Area\"].mean()\n",
        "medianaArea = aluguel_df[\"Area\"].median()\n",
        "desvioArea = aluguel_df[\"Area\"].std()\n",
        "\n",
        "mediaValor = aluguel_df[\"Valor\"].mean()\n",
        "medianaValor = aluguel_df[\"Valor\"].median()\n",
        "desvioValor = aluguel_df[\"Valor\"].std()\n",
        "\n",
        "mediaCondominio = aluguel_df[\"Condominio\"].mean()\n",
        "medianaCondominio = aluguel_df[\"Condominio\"].median()\n",
        "desvioCondominio = aluguel_df[\"Condominio\"].std()\n",
        "\n",
        "mediaIPTU = aluguel_df[\"IPTU\"].mean()\n",
        "medianaIPTU = aluguel_df[\"IPTU\"].median()\n",
        "desvioIPTU = aluguel_df[\"IPTU\"].std()\n",
        "\n",
        "print(mediaQuartos)\n",
        "print(medianaQuartos)\n",
        "print(desvioQuartos)"
      ],
      "metadata": {
        "colab": {
          "base_uri": "https://localhost:8080/"
        },
        "id": "I54jh4vd9m3k",
        "outputId": "1d6843f5-85ca-4d8e-fa1c-1b7116211b01"
      },
      "execution_count": null,
      "outputs": [
        {
          "output_type": "stream",
          "name": "stdout",
          "text": [
            "1.7713895631067962\n",
            "2.0\n",
            "1.7178687849637426\n"
          ]
        }
      ]
    },
    {
      "cell_type": "markdown",
      "source": [
        "Existe variável categórica no dataset? NÃO EXISTE"
      ],
      "metadata": {
        "id": "JwFgmUuKCrtc"
      }
    },
    {
      "cell_type": "markdown",
      "source": [
        "Existem outliers no valor? Analise em boxplot."
      ],
      "metadata": {
        "id": "rE6CG8mXDGm8"
      }
    },
    {
      "cell_type": "code",
      "source": [
        "valor = aluguel_df[\"Valor\"]\n",
        "sns.boxplot(valor)"
      ],
      "metadata": {
        "colab": {
          "base_uri": "https://localhost:8080/",
          "height": 351
        },
        "id": "kEypej0kDNhA",
        "outputId": "cd6e7e4e-dda4-42f4-a572-51adaa2929a9"
      },
      "execution_count": null,
      "outputs": [
        {
          "output_type": "stream",
          "name": "stderr",
          "text": [
            "/usr/local/lib/python3.7/dist-packages/seaborn/_decorators.py:43: FutureWarning: Pass the following variable as a keyword arg: x. From version 0.12, the only valid positional argument will be `data`, and passing other arguments without an explicit keyword will result in an error or misinterpretation.\n",
            "  FutureWarning\n"
          ]
        },
        {
          "output_type": "execute_result",
          "data": {
            "text/plain": [
              "<matplotlib.axes._subplots.AxesSubplot at 0x7f78967fccd0>"
            ]
          },
          "metadata": {},
          "execution_count": 37
        },
        {
          "output_type": "display_data",
          "data": {
            "text/plain": [
              "<Figure size 432x288 with 1 Axes>"
            ],
            "image/png": "[encoded data removed]"
          },
          "metadata": {
            "needs_background": "light"
          }
        }
      ]
    },
    {
      "cell_type": "markdown",
      "source": [
        "Plote um histograma por bairro."
      ],
      "metadata": {
        "id": "duoELLo6Dshx"
      }
    },
    {
      "cell_type": "code",
      "source": [
        "bairros = aluguel_df[\"Bairro\"]\n",
        "bairros.hist()"
      ],
      "metadata": {
        "colab": {
          "base_uri": "https://localhost:8080/",
          "height": 284
        },
        "id": "uryXFO3sDvMH",
        "outputId": "b691c526-4f68-4ebc-9470-e70d7b7eb536"
      },
      "execution_count": null,
      "outputs": [
        {
          "output_type": "execute_result",
          "data": {
            "text/plain": [
              "<matplotlib.axes._subplots.AxesSubplot at 0x7f789673ef90>"
            ]
          },
          "metadata": {},
          "execution_count": 38
        },
        {
          "output_type": "display_data",
          "data": {
            "text/plain": [
              "<Figure size 432x288 with 1 Axes>"
            ],
            "image/png": "[encoded data removed]"
          },
          "metadata": {
            "needs_background": "light"
          }
        }
      ]
    },
    {
      "cell_type": "markdown",
      "source": [
        "Quais bairros tem os imóveis mais caros?"
      ],
      "metadata": {
        "id": "jpydl3xLEIvT"
      }
    },
    {
      "cell_type": "code",
      "source": [
        ""
      ],
      "metadata": {
        "id": "fhwsamwUEMuE"
      },
      "execution_count": null,
      "outputs": []
    },
    {
      "cell_type": "markdown",
      "source": [
        "Qual o valor do imóvel mais caro? E do mais barato?"
      ],
      "metadata": {
        "id": "VDB3HXEtEZCh"
      }
    },
    {
      "cell_type": "code",
      "source": [
        ""
      ],
      "metadata": {
        "id": "Rni7A7hBEcPq"
      },
      "execution_count": null,
      "outputs": []
    },
    {
      "cell_type": "markdown",
      "source": [
        "Selecione apenas os imóveis do tipo \"apartamento\"."
      ],
      "metadata": {
        "id": "APGF5doTEcqF"
      }
    },
    {
      "cell_type": "code",
      "source": [
        ""
      ],
      "metadata": {
        "id": "35SKxv1qEfEw"
      },
      "execution_count": null,
      "outputs": []
    },
    {
      "cell_type": "markdown",
      "source": [
        "Selecione imóveis que são apartamento OU casa."
      ],
      "metadata": {
        "id": "M7xVCSvUEfk_"
      }
    },
    {
      "cell_type": "code",
      "source": [
        ""
      ],
      "metadata": {
        "id": "sPDJkLPjEhx_"
      },
      "execution_count": null,
      "outputs": []
    },
    {
      "cell_type": "markdown",
      "source": [
        "Selecione imóveis com área entre 60 e 100 m2."
      ],
      "metadata": {
        "id": "K3cTrNEJEiHH"
      }
    },
    {
      "cell_type": "code",
      "source": [
        ""
      ],
      "metadata": {
        "id": "Cw0TntDVEkA5"
      },
      "execution_count": null,
      "outputs": []
    },
    {
      "cell_type": "markdown",
      "source": [
        "Existe correlação entre condominio e aluguel? E entre aluguel e IPTU?"
      ],
      "metadata": {
        "id": "kLmQk9LaEkai"
      }
    },
    {
      "cell_type": "code",
      "source": [
        ""
      ],
      "metadata": {
        "id": "T4TBQvuoEmSe"
      },
      "execution_count": null,
      "outputs": []
    },
    {
      "cell_type": "markdown",
      "source": [
        "Existem dados faltantes?"
      ],
      "metadata": {
        "id": "dnZs9XOyEmtD"
      }
    },
    {
      "cell_type": "code",
      "source": [
        ""
      ],
      "metadata": {
        "id": "8lm8F2lHEonG"
      },
      "execution_count": null,
      "outputs": []
    },
    {
      "cell_type": "markdown",
      "source": [
        "Os dados que tem nessa base são suficientes para uma análise preditiva?"
      ],
      "metadata": {
        "id": "ELnAJyQ9EpKM"
      }
    },
    {
      "cell_type": "code",
      "source": [
        ""
      ],
      "metadata": {
        "id": "qI89nQyfEr8g"
      },
      "execution_count": null,
      "outputs": []
    }
  ]
}